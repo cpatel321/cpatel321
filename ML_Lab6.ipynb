{
 "cells": [
  {
   "cell_type": "code",
   "execution_count": 66,
   "metadata": {},
   "outputs": [
    {
     "name": "stdout",
     "output_type": "stream",
     "text": [
      "average error rate:  0.010581863200247676\n",
      "errors:  []\n"
     ]
    }
   ],
   "source": [
    "import numpy as np\n",
    "from sklearn.naive_bayes import GaussianNB\n",
    "from sklearn import datasets\n",
    "\n",
    "# load the digits\n",
    "digits = datasets.load_digits()\n",
    "\n",
    "# make two classes of digits one contains 0 and 2nd one contains numbers from 1 to 9\n",
    "\n",
    "class_0= np.where(digits.target==0)[0]\n",
    "class_1= np.where(digits.target!=0)[0]\n",
    "\n",
    "X= digits.data\n",
    "y=np.ones(digits.target.shape)\n",
    "# print(y)\n",
    "for i in ((class_0)):\n",
    "    y[i]=0\n",
    "# print(y)\n",
    "gnc = GaussianNB()\n",
    "gnc.fit(X,y)\n",
    "\n",
    "# do 5 fold cross validation\n",
    "from sklearn.model_selection import cross_val_score\n",
    "scores = cross_val_score(gnc, X, y, cv=5)\n",
    "print(\"average error rate: \", 1-np.mean(scores))\n",
    "# for which digits are we making most error in identifying them as 0\n",
    "y_pred = gnc.predict(X)\n",
    "errors=[]\n",
    "for i in ((class_0)):\n",
    "    if y_pred[i]!=y[i]:\n",
    "        errors.append(i)\n",
    "print(\"errors: \", errors)\n"
   ]
  },
  {
   "attachments": {},
   "cell_type": "markdown",
   "metadata": {},
   "source": [
    "COMMENT: for no digits we are making errors in identifying them a \"0\""
   ]
  }
 ],
 "metadata": {
  "kernelspec": {
   "display_name": "Python 3",
   "language": "python",
   "name": "python3"
  },
  "language_info": {
   "codemirror_mode": {
    "name": "ipython",
    "version": 3
   },
   "file_extension": ".py",
   "mimetype": "text/x-python",
   "name": "python",
   "nbconvert_exporter": "python",
   "pygments_lexer": "ipython3",
   "version": "3.11.2"
  },
  "orig_nbformat": 4
 },
 "nbformat": 4,
 "nbformat_minor": 2
}
