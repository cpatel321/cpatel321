{
 "cells": [
  {
   "cell_type": "code",
   "execution_count": 170,
   "metadata": {},
   "outputs": [
    {
     "name": "stdout",
     "output_type": "stream",
     "text": [
      "735\n",
      "outlier index, predicrted outlier index\n",
      "4 :4\n",
      "4 :4\n",
      "10 :10\n",
      "32 :10\n",
      "19 :10\n"
     ]
    }
   ],
   "source": [
    "import numpy as np\n",
    "from sklearn.model_selection import LeaveOneOut\n",
    "from sklearn.linear_model import LinearRegression\n",
    "\n",
    "np.random.seed(890)\n",
    "\n",
    "X=np.zeros((100,5))\n",
    "Y=np.zeros((100,5))\n",
    "for i in range(100):\n",
    "    X[i]=np.random.randn(5)\n",
    "# print(x)\n",
    "w=[0.2,0.3,0.4,0.5,0.6] \n",
    "for i in range(100):\n",
    "    Y[i]=w*X[i]+np.random.randn()\n",
    "print(\"outlier index, predicrted outlier index\")\n",
    "def outlierindx(X,Y,w):\n",
    "    outlierindx=(int(np.random.random()*50))\n",
    "    Y[outlierindx] = w*X[i]+10*np.random.randn()\n",
    "    print(outlierindx,end=\" :\")\n",
    "    # import loocv from sklearn\n",
    "\n",
    "    loo = LeaveOneOut()\n",
    "    loo.get_n_splits(X)\n",
    "    errors = []\n",
    "    for x in loo.split(X):\n",
    "        train_index, test_index = x\n",
    "        X_train, X_test = X[train_index], X[test_index]\n",
    "        Y_train, Y_test = Y[train_index], Y[test_index]\n",
    "        reg = LinearRegression().fit(X_train, Y_train)\n",
    "        Y_pred=(reg.predict(X_test))\n",
    "        # print(Y_pred)\n",
    "        (errors.append(np.sum((Y_test-Y_pred)**2)))\n",
    "    return errors.index(max(errors))\n",
    "for i in range(5):\n",
    "    print(outlierindx(X,Y,w))\n"
   ]
  }
 ],
 "metadata": {
  "kernelspec": {
   "display_name": "Python 3",
   "language": "python",
   "name": "python3"
  },
  "language_info": {
   "codemirror_mode": {
    "name": "ipython",
    "version": 3
   },
   "file_extension": ".py",
   "mimetype": "text/x-python",
   "name": "python",
   "nbconvert_exporter": "python",
   "pygments_lexer": "ipython3",
   "version": "3.11.2"
  },
  "orig_nbformat": 4
 },
 "nbformat": 4,
 "nbformat_minor": 2
}
