{
 "cells": [
  {
   "cell_type": "code",
   "execution_count": 11,
   "metadata": {},
   "outputs": [
    {
     "name": "stdout",
     "output_type": "stream",
     "text": [
      "Accuracy:  0.015581524763494713\n",
      "confusion matrix: \n",
      " [[  1   0   0   0   0 177   0   0   0   0]\n",
      " [  0   1   1   0   0   0  55  99  24   2]\n",
      " [  0  13   0   2   3   1   2   8 148   0]\n",
      " [  0 154   2  13   7   0   0   7   0   0]\n",
      " [163   0   0   0   7   0   7   4   0   0]\n",
      " [  2   0 136  43   0   0   0   0   0   1]\n",
      " [  0   0   0   0   0   1   1   2   0 177]\n",
      " [  0   0   0   0 177   0   0   2   0   0]\n",
      " [  0   2   4  53   5   0   5 100   3   2]\n",
      " [  0   6   6 139   7   0  20   2   0   0]]\n",
      "after applying PCA\n",
      "Accuracy:  0.1318864774624374\n",
      "confusion matrix: \n",
      " [[160   4   1   1   0   0   0   0  12   0]\n",
      " [  0   7  28   3   9   0   0  86   0  49]\n",
      " [  0   4  36   0  12   0 113   0   0  12]\n",
      " [  0  21  10   0  13  89  50   0   0   0]\n",
      " [  0   0   0 144   3   0   0   5  24   5]\n",
      " [  5  49  44   2  26   0   4   0   5  47]\n",
      " [  8   0   0  21   0   0   0   0 150   2]\n",
      " [  0   0   1   1 117   0   0  21   0  39]\n",
      " [  0  10  71   1  25   0   3   4   0  60]\n",
      " [  0  78  16   0   9  58   8   0   1  10]]\n"
     ]
    }
   ],
   "source": [
    "from sklearn.datasets import load_digits\n",
    "import numpy as np\n",
    "import matplotlib.pyplot as plt\n",
    "from sklearn.metrics import confusion_matrix\n",
    "from sklearn.cluster import KMeans\n",
    "from sklearn.decomposition import PCA\n",
    "import warnings\n",
    "warnings.filterwarnings('ignore')\n",
    "\n",
    "digits = load_digits()\n",
    "X=digits.data\n",
    "y=digits.target\n",
    "\n",
    "for img in X:\n",
    "    gaussian_array = np.random.normal(0, 1, (img.shape))\n",
    "    img = img + gaussian_array\n",
    "\n",
    "kmeans = KMeans(n_clusters=10, random_state=0).fit(X)\n",
    "y_pred = kmeans.predict(X)\n",
    "accuracy = np.sum(y_pred == y)/len(y)\n",
    "\n",
    "print(\"Accuracy: \", accuracy)\n",
    "print(\"confusion matrix: \\n\", confusion_matrix(y, y_pred))\n",
    "\n",
    "pca = PCA(n_components=2)\n",
    "X_pca = pca.fit_transform(X)\n",
    "\n",
    "# kmeans on pca\n",
    "kmeans = KMeans(n_clusters=10, random_state=0).fit(X_pca)\n",
    "y_pred = kmeans.predict(X_pca)\n",
    "accuracy = np.sum(y_pred == y)/len(y)\n",
    "\n",
    "print(\"After applying PCA\")\n",
    "print(\"Accuracy: \", accuracy)\n",
    "print(\"confusion matrix: \\n\", confusion_matrix(y, y_pred))\n"
   ]
  }
 ],
 "metadata": {
  "kernelspec": {
   "display_name": "Python 3",
   "language": "python",
   "name": "python3"
  },
  "language_info": {
   "codemirror_mode": {
    "name": "ipython",
    "version": 3
   },
   "file_extension": ".py",
   "mimetype": "text/x-python",
   "name": "python",
   "nbconvert_exporter": "python",
   "pygments_lexer": "ipython3",
   "version": "3.11.2"
  },
  "orig_nbformat": 4
 },
 "nbformat": 4,
 "nbformat_minor": 2
}
