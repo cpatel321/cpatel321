{
 "cells": [
  {
   "attachments": {},
   "cell_type": "markdown",
   "metadata": {},
   "source": [
    "### K center objective value "
   ]
  },
  {
   "cell_type": "code",
   "execution_count": 53,
   "metadata": {},
   "outputs": [
    {
     "name": "stdout",
     "output_type": "stream",
     "text": [
      "objective valve: 52.06726418777925\n"
     ]
    }
   ],
   "source": [
    "from sklearn.datasets import load_digits\n",
    "import numpy as np\n",
    "import matplotlib.pyplot as plt\n",
    "import pandas as pd\n",
    "\n",
    "np.random.seed(69)\n",
    "ds=load_digits()\n",
    "arr=ds[\"data\"]\n",
    "\n",
    "\n",
    "def kcenter(k,arr):\n",
    "    n,d=arr.shape\n",
    "    centers=arr[np.random.choice(n,k,replace=False)]\n",
    "    distances=np.zeros((n,k))\n",
    "    while True:\n",
    "        for i in range(n):\n",
    "            for j in range(k):\n",
    "                    distances[i][j]=np.linalg.norm(arr[i,:]-centers[j])\n",
    "        labels=np.argmin(distances,axis=1)\n",
    "        new_centers = np.zeros_like(centers)\n",
    "        for i in range(k):\n",
    "            assigned_points = arr[labels == i]\n",
    "            new_centers[i] = assigned_points[np.argmax(np.linalg.norm(assigned_points - centers[i], axis=1))]\n",
    "\n",
    "        if np.max(np.min(np.linalg.norm(arr[:, np.newaxis, :] - new_centers, axis=2), axis=1)) >= np.max(np.min(distances, axis=1)):\n",
    "            break\n",
    "        centers=new_centers.copy()\n",
    "    # for i in range(len(centers)):\n",
    "    #     plt.subplot(2,5,i+1)\n",
    "    #     plt.imshow(centers[i].reshape(8,8),cmap=plt.cm.binary)\n",
    "    #     plt.axis(\"off\")\n",
    "    # plt.show()\n",
    "    all_costs=[]\n",
    "    for i in range(k):\n",
    "            assigned_points = arr[labels == i]\n",
    "            all_costs.append(np.max(np.linalg.norm(assigned_points - centers[i], axis=1)))\n",
    "    \n",
    "    cluster_wise_points=[]\n",
    "    for i in range(k):\n",
    "        cluster_wise_points.append((arr[labels == i]))\n",
    "    return  np.max(all_costs),cluster_wise_points\n",
    "objective,cluster_wise_points_kcenter=kcenter(10,arr)\n",
    "print(\"objective valve:\",objective)\n"
   ]
  },
  {
   "attachments": {},
   "cell_type": "markdown",
   "metadata": {},
   "source": [
    "### K means clustering's cluster wise points "
   ]
  },
  {
   "cell_type": "code",
   "execution_count": 54,
   "metadata": {},
   "outputs": [],
   "source": [
    "def kmeans(k,arr,iter):\n",
    "    n,d=arr.shape\n",
    "    distances=np.zeros((n,k))\n",
    "    centroids=arr[np.random.choice(n,k,replace=False)]\n",
    "    \n",
    "    for m in range(iter):\n",
    "        for i in range(n):\n",
    "            for j in range(k):\n",
    "                distances[i][j]=np.linalg.norm(arr[i,:]-centroids[j])\n",
    "        labels=np.argmin(distances,axis=1)\n",
    "        for j in range(k):\n",
    "            centroids[j]=np.mean(arr[labels==j],axis=0)\n",
    "    cluster_wise_points=[]\n",
    "    for i in range(k):\n",
    "        cluster_wise_points.append((arr[labels == i]))\n",
    "    return cluster_wise_points\n",
    "cluster_wise_points_kmeans=kmeans(10,arr,100)"
   ]
  },
  {
   "attachments": {},
   "cell_type": "markdown",
   "metadata": {},
   "source": [
    "### Creating a 10x10 Matrix and updating i,j element of list by len of intersection set of ndarry"
   ]
  },
  {
   "cell_type": "code",
   "execution_count": 55,
   "metadata": {},
   "outputs": [
    {
     "name": "stdout",
     "output_type": "stream",
     "text": [
      "[[13. 13. 13. 12. 14. 14. 12. 12. 12. 12.]\n",
      " [15. 16. 14. 13. 13. 16. 14. 13. 13. 13.]\n",
      " [15. 15. 13. 12. 13. 15. 13. 13. 12. 13.]\n",
      " [12. 13. 12. 12. 12. 14. 12. 12. 12. 12.]\n",
      " [12. 13. 13. 11. 12. 14. 12. 12. 14. 12.]\n",
      " [15. 16. 15. 14. 14. 17. 15. 14. 14. 14.]\n",
      " [12. 13. 12. 11. 11. 14. 12. 12. 12. 12.]\n",
      " [11. 12. 11. 11. 10. 13. 11. 10. 11. 12.]\n",
      " [12. 13. 12. 14. 12. 14. 13. 11. 11. 11.]\n",
      " [13. 14. 15. 12. 13. 15. 13. 12. 13. 12.]]\n"
     ]
    }
   ],
   "source": [
    "matrix=np.zeros((10,10))\n",
    "for i in range(10):\n",
    "    for j in range(10):\n",
    "        matrix[i][j]+=len(set(cluster_wise_points_kmeans[i].tolist()[0]).intersection(cluster_wise_points_kcenter[j].tolist()[0]))\n",
    "print(matrix)"
   ]
  }
 ],
 "metadata": {
  "kernelspec": {
   "display_name": "Python 3",
   "language": "python",
   "name": "python3"
  },
  "language_info": {
   "codemirror_mode": {
    "name": "ipython",
    "version": 3
   },
   "file_extension": ".py",
   "mimetype": "text/x-python",
   "name": "python",
   "nbconvert_exporter": "python",
   "pygments_lexer": "ipython3",
   "version": "3.11.2"
  },
  "orig_nbformat": 4
 },
 "nbformat": 4,
 "nbformat_minor": 2
}
