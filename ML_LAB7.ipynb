{
 "cells": [
  {
   "cell_type": "code",
   "execution_count": 53,
   "metadata": {},
   "outputs": [
    {
     "name": "stdout",
     "output_type": "stream",
     "text": [
      "Confusion Matrix:\n",
      "[[18  0  0]\n",
      " [ 0  7  1]\n",
      " [ 0  0 12]]\n",
      "Accuracy:\n",
      "0.9736842105263158\n"
     ]
    }
   ],
   "source": [
    "import numpy as np\n",
    "from sklearn.datasets import load_iris\n",
    "from sklearn.model_selection import train_test_split\n",
    "from sklearn.metrics import confusion_matrix\n",
    "from sklearn.metrics import accuracy_score\n",
    "\n",
    "iris=load_iris()\n",
    "X=iris.data\n",
    "y=iris.target\n",
    "\n",
    "X_train,X_test,y_train,y_test=train_test_split(X,y,test_size=0.25,random_state=4)\n",
    "\n",
    "def knn(X_train,X_test,y_train,k):\n",
    "    dist=np.sqrt(np.sum((X_train-X_test)**2,axis=1))\n",
    "    sorted_dist=np.argsort(dist)\n",
    "    k_nearest_neighbors=sorted_dist[:k]\n",
    "    count=np.bincount(y_train[k_nearest_neighbors])\n",
    "    return np.argmax(count)\n",
    "\n",
    "y_pred=[]\n",
    "for i in range(len(X_test)):\n",
    "    y_pred.append(knn(X_train,X_test[i],y_train,5))\n",
    "y_pred=np.array(y_pred)\n",
    "print(\"Confusion Matrix:\")\n",
    "print(confusion_matrix(y_test,y_pred))\n",
    "print(\"Accuracy:\")\n",
    "print(accuracy_score(y_test,y_pred))"
   ]
  }
 ],
 "metadata": {
  "kernelspec": {
   "display_name": "Python 3",
   "language": "python",
   "name": "python3"
  },
  "language_info": {
   "codemirror_mode": {
    "name": "ipython",
    "version": 3
   },
   "file_extension": ".py",
   "mimetype": "text/x-python",
   "name": "python",
   "nbconvert_exporter": "python",
   "pygments_lexer": "ipython3",
   "version": "3.11.2"
  },
  "orig_nbformat": 4
 },
 "nbformat": 4,
 "nbformat_minor": 2
}
